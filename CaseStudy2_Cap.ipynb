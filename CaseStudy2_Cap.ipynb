{
 "cells": [
  {
   "cell_type": "code",
   "execution_count": 1,
   "metadata": {},
   "outputs": [],
   "source": [
    "                                                                                                                                                                                                        import pandas as pd\n",
    "import datetime as dt\n",
    "import numpy as np\n",
    "from dateutil.relativedelta import relativedelta\n",
    "from sklearn.model_selection import train_test_split\n",
    "import xgboost as xgb\n",
    "from sklearn.preprocessing import OneHotEncoder\n",
    "from sklearn.preprocessing import LabelEncoder\n",
    "from sklearn.ensemble import RandomForestClassifier\n",
    "import sklearn.metrics as metrics\n",
    "from scipy.stats import ks_2samp\n",
    "from sklearn.metrics import roc_auc_score\n",
    "import seaborn as sns\n",
    "import matplotlib.pyplot as plt\n",
    "from sklearn.metrics import roc_curve\n"
   ]
  },
  {
   "cell_type": "code",
   "execution_count": 2,
   "metadata": {},
   "outputs": [],
   "source": [
    "df_Campaign=pd.read_csv('./Campaign_Data.csv')\n"
   ]
  },
  {
   "cell_type": "code",
   "execution_count": 3,
   "metadata": {},
   "outputs": [
    {
     "data": {
      "text/html": [
       "<div>\n",
       "<style scoped>\n",
       "    .dataframe tbody tr th:only-of-type {\n",
       "        vertical-align: middle;\n",
       "    }\n",
       "\n",
       "    .dataframe tbody tr th {\n",
       "        vertical-align: top;\n",
       "    }\n",
       "\n",
       "    .dataframe thead th {\n",
       "        text-align: right;\n",
       "    }\n",
       "</style>\n",
       "<table border=\"1\" class=\"dataframe\">\n",
       "  <thead>\n",
       "    <tr style=\"text-align: right;\">\n",
       "      <th></th>\n",
       "      <th>CustID</th>\n",
       "      <th>status</th>\n",
       "      <th>Campaign_Exec_Date</th>\n",
       "      <th>Campaign_Channel</th>\n",
       "    </tr>\n",
       "  </thead>\n",
       "  <tbody>\n",
       "    <tr>\n",
       "      <th>0</th>\n",
       "      <td>11111J11RREFG1VoGo1FejtGEVV88JtM</td>\n",
       "      <td>viewed</td>\n",
       "      <td>2019-05-28</td>\n",
       "      <td>Email</td>\n",
       "    </tr>\n",
       "    <tr>\n",
       "      <th>1</th>\n",
       "      <td>11111J11RREFG1VoGo1FejtGEVV88JtM</td>\n",
       "      <td>delivered</td>\n",
       "      <td>2019-05-29</td>\n",
       "      <td>Email</td>\n",
       "    </tr>\n",
       "    <tr>\n",
       "      <th>2</th>\n",
       "      <td>11111J11RREFG1VoGo1FejtGEVV88JtM</td>\n",
       "      <td>delivered</td>\n",
       "      <td>2019-05-30</td>\n",
       "      <td>Email</td>\n",
       "    </tr>\n",
       "    <tr>\n",
       "      <th>3</th>\n",
       "      <td>11111J11RREFG1VoGo1FejtGEVV88JtM</td>\n",
       "      <td>delivered</td>\n",
       "      <td>2019-06-03</td>\n",
       "      <td>Email</td>\n",
       "    </tr>\n",
       "    <tr>\n",
       "      <th>4</th>\n",
       "      <td>11111J11RREFG1VoGo1FejtGEVV88JtM</td>\n",
       "      <td>delivered</td>\n",
       "      <td>2019-06-04</td>\n",
       "      <td>Email</td>\n",
       "    </tr>\n",
       "  </tbody>\n",
       "</table>\n",
       "</div>"
      ],
      "text/plain": [
       "                             CustID     status Campaign_Exec_Date  \\\n",
       "0  11111J11RREFG1VoGo1FejtGEVV88JtM     viewed         2019-05-28   \n",
       "1  11111J11RREFG1VoGo1FejtGEVV88JtM  delivered         2019-05-29   \n",
       "2  11111J11RREFG1VoGo1FejtGEVV88JtM  delivered         2019-05-30   \n",
       "3  11111J11RREFG1VoGo1FejtGEVV88JtM  delivered         2019-06-03   \n",
       "4  11111J11RREFG1VoGo1FejtGEVV88JtM  delivered         2019-06-04   \n",
       "\n",
       "  Campaign_Channel  \n",
       "0            Email  \n",
       "1            Email  \n",
       "2            Email  \n",
       "3            Email  \n",
       "4            Email  "
      ]
     },
     "execution_count": 3,
     "metadata": {},
     "output_type": "execute_result"
    }
   ],
   "source": [
    "df_Campaign.head()"
   ]
  },
  {
   "cell_type": "code",
   "execution_count": null,
   "metadata": {},
   "outputs": [],
   "source": []
  },
  {
   "cell_type": "code",
   "execution_count": 4,
   "metadata": {},
   "outputs": [],
   "source": [
    "df_delivery=pd.read_csv('./Customer_Delivery_Data.csv')"
   ]
  },
  {
   "cell_type": "code",
   "execution_count": 5,
   "metadata": {},
   "outputs": [
    {
     "data": {
      "text/html": [
       "<div>\n",
       "<style scoped>\n",
       "    .dataframe tbody tr th:only-of-type {\n",
       "        vertical-align: middle;\n",
       "    }\n",
       "\n",
       "    .dataframe tbody tr th {\n",
       "        vertical-align: top;\n",
       "    }\n",
       "\n",
       "    .dataframe thead th {\n",
       "        text-align: right;\n",
       "    }\n",
       "</style>\n",
       "<table border=\"1\" class=\"dataframe\">\n",
       "  <thead>\n",
       "    <tr style=\"text-align: right;\">\n",
       "      <th></th>\n",
       "      <th>orderdate</th>\n",
       "      <th>articletype</th>\n",
       "      <th>originalreqdeliverydate</th>\n",
       "      <th>currentstatus</th>\n",
       "      <th>currentstatustimestamp</th>\n",
       "      <th>sale_timestamp</th>\n",
       "      <th>readytopick_timestamp</th>\n",
       "      <th>readytoship_timestamp</th>\n",
       "      <th>packed_timestamp</th>\n",
       "      <th>connecttocarrier_timestamp</th>\n",
       "      <th>...</th>\n",
       "      <th>outfordelivery_timestamp</th>\n",
       "      <th>delivered_timestamp</th>\n",
       "      <th>articlename</th>\n",
       "      <th>merchcategorydescription</th>\n",
       "      <th>merchclassdescription</th>\n",
       "      <th>merchgroupdescription</th>\n",
       "      <th>itemdesc</th>\n",
       "      <th>shiptozipcode</th>\n",
       "      <th>shiptocity</th>\n",
       "      <th>shiptostate</th>\n",
       "    </tr>\n",
       "  </thead>\n",
       "  <tbody>\n",
       "    <tr>\n",
       "      <th>0</th>\n",
       "      <td>15/11/22</td>\n",
       "      <td>ZPLU</td>\n",
       "      <td>21/11/22 0:00</td>\n",
       "      <td>Order Delivered</td>\n",
       "      <td>17/11/22 19:00</td>\n",
       "      <td>15/11/22 18:39</td>\n",
       "      <td>15/11/22 20:53</td>\n",
       "      <td>16/11/22 8:15</td>\n",
       "      <td>16/11/22 8:23</td>\n",
       "      <td>16/11/22 8:24</td>\n",
       "      <td>...</td>\n",
       "      <td>17/11/22 19:00</td>\n",
       "      <td>17/11/22 19:00</td>\n",
       "      <td>Lenovo 10.3 Tab X606V 2ndG 4+128GB Grey</td>\n",
       "      <td>Tablets &amp; Detachables - D</td>\n",
       "      <td>Tablets &amp; Detachables</td>\n",
       "      <td>Computers Peripherals</td>\n",
       "      <td>Lenovo 10.3 Tab X606V 2ndG 4+128GB Grey</td>\n",
       "      <td>226010.0</td>\n",
       "      <td>LUCKNOW</td>\n",
       "      <td>Uttar Pradesh</td>\n",
       "    </tr>\n",
       "    <tr>\n",
       "      <th>1</th>\n",
       "      <td>16/11/22</td>\n",
       "      <td>ZPLU</td>\n",
       "      <td>16/11/22 0:00</td>\n",
       "      <td>Order Delivered</td>\n",
       "      <td>19/11/22 13:28</td>\n",
       "      <td>16/11/22 17:30</td>\n",
       "      <td>16/11/22 18:25</td>\n",
       "      <td>16/11/22 19:34</td>\n",
       "      <td>16/11/22 20:51</td>\n",
       "      <td>16/11/22 20:51</td>\n",
       "      <td>...</td>\n",
       "      <td>19/11/22 11:44</td>\n",
       "      <td>19/11/22 13:28</td>\n",
       "      <td>SAMSUNG FF 253L RT28T3042S8/NL EL INX 2S</td>\n",
       "      <td>Refrigerator Frost Free &lt;300L</td>\n",
       "      <td>Refrigerators</td>\n",
       "      <td>Large Appliances</td>\n",
       "      <td>SAMSUNG FF 253L RT28T3042S8/NL EL INX 2S</td>\n",
       "      <td>389350.0</td>\n",
       "      <td>HALOL</td>\n",
       "      <td>Gujarat</td>\n",
       "    </tr>\n",
       "    <tr>\n",
       "      <th>2</th>\n",
       "      <td>16/11/22</td>\n",
       "      <td>ZPLU</td>\n",
       "      <td>16/11/22 0:00</td>\n",
       "      <td>Order Delivered</td>\n",
       "      <td>21/11/22 17:34</td>\n",
       "      <td>16/11/22 17:59</td>\n",
       "      <td>16/11/22 19:51</td>\n",
       "      <td>16/11/22 23:41</td>\n",
       "      <td>17/11/22 1:54</td>\n",
       "      <td>17/11/22 1:54</td>\n",
       "      <td>...</td>\n",
       "      <td>21/11/22 13:13</td>\n",
       "      <td>21/11/22 17:34</td>\n",
       "      <td>BOAT 2.1Ch Soundbar Aavante 1550 RTL</td>\n",
       "      <td>Sound Bars_H</td>\n",
       "      <td>Home Theatre</td>\n",
       "      <td>Entertainment</td>\n",
       "      <td>BOAT 2.1Ch Soundbar Aavante 1550 RTL</td>\n",
       "      <td>493221.0</td>\n",
       "      <td>RAIPUR</td>\n",
       "      <td>Chhattisgarh</td>\n",
       "    </tr>\n",
       "    <tr>\n",
       "      <th>3</th>\n",
       "      <td>16/11/22</td>\n",
       "      <td>ZPLU</td>\n",
       "      <td>16/11/22 0:00</td>\n",
       "      <td>Order Delivered</td>\n",
       "      <td>18/11/22 15:24</td>\n",
       "      <td>16/11/22 22:22</td>\n",
       "      <td>17/11/22 2:22</td>\n",
       "      <td>17/11/22 3:40</td>\n",
       "      <td>17/11/22 5:10</td>\n",
       "      <td>17/11/22 5:10</td>\n",
       "      <td>...</td>\n",
       "      <td>18/11/22 12:53</td>\n",
       "      <td>18/11/22 15:24</td>\n",
       "      <td>Croma LedFHD OA 40in 1Y CREL040FOF024601</td>\n",
       "      <td>LED Panels 40\"</td>\n",
       "      <td>TV LCD</td>\n",
       "      <td>Entertainment</td>\n",
       "      <td>E-Croma LedFHD OA40in1Y CREL040FOF024601</td>\n",
       "      <td>250001.0</td>\n",
       "      <td>MEERUT</td>\n",
       "      <td>Uttar Pradesh</td>\n",
       "    </tr>\n",
       "    <tr>\n",
       "      <th>4</th>\n",
       "      <td>16/11/22</td>\n",
       "      <td>ZPLU</td>\n",
       "      <td>16/11/22 0:00</td>\n",
       "      <td>Order Delivered</td>\n",
       "      <td>17/11/22 18:36</td>\n",
       "      <td>16/11/22 22:14</td>\n",
       "      <td>16/11/22 23:20</td>\n",
       "      <td>16/11/22 23:45</td>\n",
       "      <td>17/11/22 7:48</td>\n",
       "      <td>17/11/22 7:48</td>\n",
       "      <td>...</td>\n",
       "      <td>17/11/22 8:58</td>\n",
       "      <td>17/11/22 18:36</td>\n",
       "      <td>Croma LedFHD OA 40in 1Y CREL040FOF024601</td>\n",
       "      <td>LED Panels 40\"</td>\n",
       "      <td>TV LCD</td>\n",
       "      <td>Entertainment</td>\n",
       "      <td>E-Croma LedFHD OA40in1Y CREL040FOF024601</td>\n",
       "      <td>711102.0</td>\n",
       "      <td>HOWRAH</td>\n",
       "      <td>West Bengal</td>\n",
       "    </tr>\n",
       "  </tbody>\n",
       "</table>\n",
       "<p>5 rows × 22 columns</p>\n",
       "</div>"
      ],
      "text/plain": [
       "  orderdate articletype originalreqdeliverydate    currentstatus  \\\n",
       "0  15/11/22        ZPLU           21/11/22 0:00  Order Delivered   \n",
       "1  16/11/22        ZPLU           16/11/22 0:00  Order Delivered   \n",
       "2  16/11/22        ZPLU           16/11/22 0:00  Order Delivered   \n",
       "3  16/11/22        ZPLU           16/11/22 0:00  Order Delivered   \n",
       "4  16/11/22        ZPLU           16/11/22 0:00  Order Delivered   \n",
       "\n",
       "  currentstatustimestamp  sale_timestamp readytopick_timestamp  \\\n",
       "0         17/11/22 19:00  15/11/22 18:39        15/11/22 20:53   \n",
       "1         19/11/22 13:28  16/11/22 17:30        16/11/22 18:25   \n",
       "2         21/11/22 17:34  16/11/22 17:59        16/11/22 19:51   \n",
       "3         18/11/22 15:24  16/11/22 22:22         17/11/22 2:22   \n",
       "4         17/11/22 18:36  16/11/22 22:14        16/11/22 23:20   \n",
       "\n",
       "  readytoship_timestamp packed_timestamp connecttocarrier_timestamp  ...  \\\n",
       "0         16/11/22 8:15    16/11/22 8:23              16/11/22 8:24  ...   \n",
       "1        16/11/22 19:34   16/11/22 20:51             16/11/22 20:51  ...   \n",
       "2        16/11/22 23:41    17/11/22 1:54              17/11/22 1:54  ...   \n",
       "3         17/11/22 3:40    17/11/22 5:10              17/11/22 5:10  ...   \n",
       "4        16/11/22 23:45    17/11/22 7:48              17/11/22 7:48  ...   \n",
       "\n",
       "  outfordelivery_timestamp delivered_timestamp  \\\n",
       "0           17/11/22 19:00      17/11/22 19:00   \n",
       "1           19/11/22 11:44      19/11/22 13:28   \n",
       "2           21/11/22 13:13      21/11/22 17:34   \n",
       "3           18/11/22 12:53      18/11/22 15:24   \n",
       "4            17/11/22 8:58      17/11/22 18:36   \n",
       "\n",
       "                                articlename       merchcategorydescription  \\\n",
       "0   Lenovo 10.3 Tab X606V 2ndG 4+128GB Grey      Tablets & Detachables - D   \n",
       "1  SAMSUNG FF 253L RT28T3042S8/NL EL INX 2S  Refrigerator Frost Free <300L   \n",
       "2      BOAT 2.1Ch Soundbar Aavante 1550 RTL                   Sound Bars_H   \n",
       "3  Croma LedFHD OA 40in 1Y CREL040FOF024601                 LED Panels 40\"   \n",
       "4  Croma LedFHD OA 40in 1Y CREL040FOF024601                 LED Panels 40\"   \n",
       "\n",
       "   merchclassdescription  merchgroupdescription  \\\n",
       "0  Tablets & Detachables  Computers Peripherals   \n",
       "1          Refrigerators       Large Appliances   \n",
       "2           Home Theatre          Entertainment   \n",
       "3                 TV LCD          Entertainment   \n",
       "4                 TV LCD          Entertainment   \n",
       "\n",
       "                                   itemdesc shiptozipcode shiptocity  \\\n",
       "0   Lenovo 10.3 Tab X606V 2ndG 4+128GB Grey      226010.0    LUCKNOW   \n",
       "1  SAMSUNG FF 253L RT28T3042S8/NL EL INX 2S      389350.0      HALOL   \n",
       "2      BOAT 2.1Ch Soundbar Aavante 1550 RTL      493221.0     RAIPUR   \n",
       "3  E-Croma LedFHD OA40in1Y CREL040FOF024601      250001.0     MEERUT   \n",
       "4  E-Croma LedFHD OA40in1Y CREL040FOF024601      711102.0     HOWRAH   \n",
       "\n",
       "     shiptostate  \n",
       "0  Uttar Pradesh  \n",
       "1        Gujarat  \n",
       "2   Chhattisgarh  \n",
       "3  Uttar Pradesh  \n",
       "4    West Bengal  \n",
       "\n",
       "[5 rows x 22 columns]"
      ]
     },
     "execution_count": 5,
     "metadata": {},
     "output_type": "execute_result"
    }
   ],
   "source": [
    "df_delivery.head()"
   ]
  },
  {
   "cell_type": "code",
   "execution_count": 6,
   "metadata": {},
   "outputs": [
    {
     "name": "stderr",
     "output_type": "stream",
     "text": [
      "/var/folders/0m/4fnz6m4n3lb29mkycr_3kcf00000gn/T/ipykernel_8746/325263824.py:1: DtypeWarning: Columns (3) have mixed types. Specify dtype option on import or set low_memory=False.\n",
      "  df_Customer=pd.read_csv('./Customer_Master_Data.csv')\n"
     ]
    }
   ],
   "source": [
    "df_Customer=pd.read_csv('./Customer_Master_Data.csv')"
   ]
  },
  {
   "cell_type": "code",
   "execution_count": 7,
   "metadata": {},
   "outputs": [
    {
     "data": {
      "text/html": [
       "<div>\n",
       "<style scoped>\n",
       "    .dataframe tbody tr th:only-of-type {\n",
       "        vertical-align: middle;\n",
       "    }\n",
       "\n",
       "    .dataframe tbody tr th {\n",
       "        vertical-align: top;\n",
       "    }\n",
       "\n",
       "    .dataframe thead th {\n",
       "        text-align: right;\n",
       "    }\n",
       "</style>\n",
       "<table border=\"1\" class=\"dataframe\">\n",
       "  <thead>\n",
       "    <tr style=\"text-align: right;\">\n",
       "      <th></th>\n",
       "      <th>CustID</th>\n",
       "      <th>Gender</th>\n",
       "      <th>Marital_Status</th>\n",
       "      <th>Pincode</th>\n",
       "      <th>State</th>\n",
       "    </tr>\n",
       "  </thead>\n",
       "  <tbody>\n",
       "    <tr>\n",
       "      <th>0</th>\n",
       "      <td>7teAttAeH</td>\n",
       "      <td>NaN</td>\n",
       "      <td>NaN</td>\n",
       "      <td>678506.0</td>\n",
       "      <td>Keral</td>\n",
       "    </tr>\n",
       "    <tr>\n",
       "      <th>1</th>\n",
       "      <td>7t8tJJHt7</td>\n",
       "      <td>NaN</td>\n",
       "      <td>NaN</td>\n",
       "      <td>770001.0</td>\n",
       "      <td>Odisha</td>\n",
       "    </tr>\n",
       "    <tr>\n",
       "      <th>2</th>\n",
       "      <td>787t17tJt</td>\n",
       "      <td>NaN</td>\n",
       "      <td>NaN</td>\n",
       "      <td>245101.0</td>\n",
       "      <td>Uttar Pradesh</td>\n",
       "    </tr>\n",
       "    <tr>\n",
       "      <th>3</th>\n",
       "      <td>787ttJtHH</td>\n",
       "      <td>NaN</td>\n",
       "      <td>NaN</td>\n",
       "      <td>673008.0</td>\n",
       "      <td>Keral</td>\n",
       "    </tr>\n",
       "    <tr>\n",
       "      <th>4</th>\n",
       "      <td>7878HHoHo</td>\n",
       "      <td>NaN</td>\n",
       "      <td>NaN</td>\n",
       "      <td>501510.0</td>\n",
       "      <td>Telangana</td>\n",
       "    </tr>\n",
       "  </tbody>\n",
       "</table>\n",
       "</div>"
      ],
      "text/plain": [
       "      CustID Gender Marital_Status   Pincode          State\n",
       "0  7teAttAeH    NaN            NaN  678506.0          Keral\n",
       "1  7t8tJJHt7    NaN            NaN  770001.0         Odisha\n",
       "2  787t17tJt    NaN            NaN  245101.0  Uttar Pradesh\n",
       "3  787ttJtHH    NaN            NaN  673008.0          Keral\n",
       "4  7878HHoHo    NaN            NaN  501510.0      Telangana"
      ]
     },
     "execution_count": 7,
     "metadata": {},
     "output_type": "execute_result"
    }
   ],
   "source": [
    "df_Customer.head()"
   ]
  },
  {
   "cell_type": "code",
   "execution_count": 9,
   "metadata": {},
   "outputs": [],
   "source": [
    "df_Transact=pd.read_csv('./Customer_Transaction_Data.csv')"
   ]
  },
  {
   "cell_type": "code",
   "execution_count": 10,
   "metadata": {},
   "outputs": [
    {
     "data": {
      "text/html": [
       "<div>\n",
       "<style scoped>\n",
       "    .dataframe tbody tr th:only-of-type {\n",
       "        vertical-align: middle;\n",
       "    }\n",
       "\n",
       "    .dataframe tbody tr th {\n",
       "        vertical-align: top;\n",
       "    }\n",
       "\n",
       "    .dataframe thead th {\n",
       "        text-align: right;\n",
       "    }\n",
       "</style>\n",
       "<table border=\"1\" class=\"dataframe\">\n",
       "  <thead>\n",
       "    <tr style=\"text-align: right;\">\n",
       "      <th></th>\n",
       "      <th>CustID</th>\n",
       "      <th>ItemDesc</th>\n",
       "      <th>MerchCategoryDescription</th>\n",
       "      <th>MerchClassDescription</th>\n",
       "      <th>MerchGroupDescription</th>\n",
       "      <th>SaleValue</th>\n",
       "      <th>OrderedQuantity</th>\n",
       "      <th>OrderDate</th>\n",
       "      <th>ReturnFlag</th>\n",
       "      <th>SalesChannelCode</th>\n",
       "      <th>Ecom_BnM_Indicator</th>\n",
       "      <th>StoreID</th>\n",
       "      <th>StoreCode</th>\n",
       "      <th>StoreCity</th>\n",
       "      <th>StoreState</th>\n",
       "      <th>StorePincode</th>\n",
       "    </tr>\n",
       "  </thead>\n",
       "  <tbody>\n",
       "    <tr>\n",
       "      <th>0</th>\n",
       "      <td>JFRGRFjeEJVG8RJF8R1Foj8AJJ7Et8oH</td>\n",
       "      <td>APPLE PROTECTION PLAN MACBOOK PRO</td>\n",
       "      <td>APPLE PROTECTION PLAN MACBOOK PRO</td>\n",
       "      <td>Mobile Computing</td>\n",
       "      <td>Computers Peripherals</td>\n",
       "      <td>-25398.00</td>\n",
       "      <td>-1</td>\n",
       "      <td>2019-01-01</td>\n",
       "      <td>NaN</td>\n",
       "      <td>RS</td>\n",
       "      <td>B&amp;M</td>\n",
       "      <td>83.0</td>\n",
       "      <td>A129</td>\n",
       "      <td>Pune</td>\n",
       "      <td>Maharashtra</td>\n",
       "      <td>411014</td>\n",
       "    </tr>\n",
       "    <tr>\n",
       "      <th>1</th>\n",
       "      <td>JFRGRFjeEJVG8RJF8R1Foj8AJJ7Et8oH</td>\n",
       "      <td>MacBook Pro 16 2.6GH i7 9G 16GB 512GB SG</td>\n",
       "      <td>MacBook Pro 16 2.6GH i7 9G 16GB 512GB SG</td>\n",
       "      <td>Mobile Computing</td>\n",
       "      <td>Computers Peripherals</td>\n",
       "      <td>-193703.10</td>\n",
       "      <td>-1</td>\n",
       "      <td>2019-01-01</td>\n",
       "      <td>NaN</td>\n",
       "      <td>RS</td>\n",
       "      <td>B&amp;M</td>\n",
       "      <td>83.0</td>\n",
       "      <td>A129</td>\n",
       "      <td>Pune</td>\n",
       "      <td>Maharashtra</td>\n",
       "      <td>411014</td>\n",
       "    </tr>\n",
       "    <tr>\n",
       "      <th>2</th>\n",
       "      <td>V1AG7tA7E1tMVjt7tVH7JARR11AVotet</td>\n",
       "      <td>Samsung Galaxy A70 S 6GB White</td>\n",
       "      <td>Samsung Galaxy A70 S 6GB White</td>\n",
       "      <td>Smart Phones (OS Based)</td>\n",
       "      <td>Communication</td>\n",
       "      <td>26518.98</td>\n",
       "      <td>1</td>\n",
       "      <td>2019-01-01</td>\n",
       "      <td>NaN</td>\n",
       "      <td>RS</td>\n",
       "      <td>B&amp;M</td>\n",
       "      <td>79.0</td>\n",
       "      <td>A122</td>\n",
       "      <td>Ghaziabad</td>\n",
       "      <td>Delhi NCR</td>\n",
       "      <td>201001</td>\n",
       "    </tr>\n",
       "    <tr>\n",
       "      <th>3</th>\n",
       "      <td>V1AG7tA7E1tMVjt7tVH7JARR11AVotet</td>\n",
       "      <td>Wireless Earphones ITFIT Freebie Red</td>\n",
       "      <td>Wireless Earphones ITFIT Freebie Red</td>\n",
       "      <td>Free Gifts</td>\n",
       "      <td>Miscellaneous</td>\n",
       "      <td>0.00</td>\n",
       "      <td>1</td>\n",
       "      <td>2019-01-01</td>\n",
       "      <td>NaN</td>\n",
       "      <td>RS</td>\n",
       "      <td>B&amp;M</td>\n",
       "      <td>79.0</td>\n",
       "      <td>A122</td>\n",
       "      <td>Ghaziabad</td>\n",
       "      <td>Delhi NCR</td>\n",
       "      <td>201001</td>\n",
       "    </tr>\n",
       "    <tr>\n",
       "      <th>4</th>\n",
       "      <td>tAEVH8jEG1Eoe1GE1JEojJetVtMGFjto</td>\n",
       "      <td>DELL New bag pack</td>\n",
       "      <td>DELL New bag pack</td>\n",
       "      <td>Mobile Computing</td>\n",
       "      <td>Computers Peripherals</td>\n",
       "      <td>-1120.98</td>\n",
       "      <td>-1</td>\n",
       "      <td>2019-01-01</td>\n",
       "      <td>NaN</td>\n",
       "      <td>RS</td>\n",
       "      <td>B&amp;M</td>\n",
       "      <td>8.0</td>\n",
       "      <td>A010</td>\n",
       "      <td>Surat</td>\n",
       "      <td>Gujarat</td>\n",
       "      <td>395007</td>\n",
       "    </tr>\n",
       "  </tbody>\n",
       "</table>\n",
       "</div>"
      ],
      "text/plain": [
       "                             CustID                                  ItemDesc  \\\n",
       "0  JFRGRFjeEJVG8RJF8R1Foj8AJJ7Et8oH         APPLE PROTECTION PLAN MACBOOK PRO   \n",
       "1  JFRGRFjeEJVG8RJF8R1Foj8AJJ7Et8oH  MacBook Pro 16 2.6GH i7 9G 16GB 512GB SG   \n",
       "2  V1AG7tA7E1tMVjt7tVH7JARR11AVotet            Samsung Galaxy A70 S 6GB White   \n",
       "3  V1AG7tA7E1tMVjt7tVH7JARR11AVotet      Wireless Earphones ITFIT Freebie Red   \n",
       "4  tAEVH8jEG1Eoe1GE1JEojJetVtMGFjto                         DELL New bag pack   \n",
       "\n",
       "                   MerchCategoryDescription    MerchClassDescription  \\\n",
       "0         APPLE PROTECTION PLAN MACBOOK PRO         Mobile Computing   \n",
       "1  MacBook Pro 16 2.6GH i7 9G 16GB 512GB SG         Mobile Computing   \n",
       "2            Samsung Galaxy A70 S 6GB White  Smart Phones (OS Based)   \n",
       "3      Wireless Earphones ITFIT Freebie Red               Free Gifts   \n",
       "4                         DELL New bag pack         Mobile Computing   \n",
       "\n",
       "   MerchGroupDescription  SaleValue  OrderedQuantity   OrderDate ReturnFlag  \\\n",
       "0  Computers Peripherals  -25398.00               -1  2019-01-01        NaN   \n",
       "1  Computers Peripherals -193703.10               -1  2019-01-01        NaN   \n",
       "2          Communication   26518.98                1  2019-01-01        NaN   \n",
       "3          Miscellaneous       0.00                1  2019-01-01        NaN   \n",
       "4  Computers Peripherals   -1120.98               -1  2019-01-01        NaN   \n",
       "\n",
       "  SalesChannelCode Ecom_BnM_Indicator  StoreID StoreCode  StoreCity  \\\n",
       "0               RS                B&M     83.0      A129       Pune   \n",
       "1               RS                B&M     83.0      A129       Pune   \n",
       "2               RS                B&M     79.0      A122  Ghaziabad   \n",
       "3               RS                B&M     79.0      A122  Ghaziabad   \n",
       "4               RS                B&M      8.0      A010      Surat   \n",
       "\n",
       "    StoreState StorePincode  \n",
       "0  Maharashtra       411014  \n",
       "1  Maharashtra       411014  \n",
       "2    Delhi NCR       201001  \n",
       "3    Delhi NCR       201001  \n",
       "4      Gujarat       395007  "
      ]
     },
     "execution_count": 10,
     "metadata": {},
     "output_type": "execute_result"
    }
   ],
   "source": [
    "df_Transact.head()"
   ]
  },
  {
   "cell_type": "code",
   "execution_count": null,
   "metadata": {},
   "outputs": [],
   "source": [
    "# We have to find the campaign date and the orderdate after that campaign\n",
    "#if there is an orderdate within a month of camp_exec date it is yes(1) if not no(0)"
   ]
  },
  {
   "cell_type": "code",
   "execution_count": 11,
   "metadata": {},
   "outputs": [
    {
     "data": {
      "text/plain": [
       "(10912592, 4)"
      ]
     },
     "execution_count": 11,
     "metadata": {},
     "output_type": "execute_result"
    }
   ],
   "source": [
    "df_Campaign.shape"
   ]
  },
  {
   "cell_type": "code",
   "execution_count": 12,
   "metadata": {},
   "outputs": [
    {
     "data": {
      "text/plain": [
       "(1625393, 16)"
      ]
     },
     "execution_count": 12,
     "metadata": {},
     "output_type": "execute_result"
    }
   ],
   "source": [
    "df_Transact.shape"
   ]
  },
  {
   "cell_type": "code",
   "execution_count": 13,
   "metadata": {},
   "outputs": [
    {
     "data": {
      "text/html": [
       "<div>\n",
       "<style scoped>\n",
       "    .dataframe tbody tr th:only-of-type {\n",
       "        vertical-align: middle;\n",
       "    }\n",
       "\n",
       "    .dataframe tbody tr th {\n",
       "        vertical-align: top;\n",
       "    }\n",
       "\n",
       "    .dataframe thead th {\n",
       "        text-align: right;\n",
       "    }\n",
       "</style>\n",
       "<table border=\"1\" class=\"dataframe\">\n",
       "  <thead>\n",
       "    <tr style=\"text-align: right;\">\n",
       "      <th></th>\n",
       "      <th>CustID</th>\n",
       "      <th>ItemDesc</th>\n",
       "      <th>MerchCategoryDescription</th>\n",
       "      <th>MerchClassDescription</th>\n",
       "      <th>MerchGroupDescription</th>\n",
       "      <th>SaleValue</th>\n",
       "      <th>OrderedQuantity</th>\n",
       "      <th>OrderDate</th>\n",
       "      <th>ReturnFlag</th>\n",
       "      <th>SalesChannelCode</th>\n",
       "      <th>Ecom_BnM_Indicator</th>\n",
       "      <th>StoreID</th>\n",
       "      <th>StoreCode</th>\n",
       "      <th>StoreCity</th>\n",
       "      <th>StoreState</th>\n",
       "      <th>StorePincode</th>\n",
       "    </tr>\n",
       "  </thead>\n",
       "  <tbody>\n",
       "    <tr>\n",
       "      <th>0</th>\n",
       "      <td>JFRGRFjeEJVG8RJF8R1Foj8AJJ7Et8oH</td>\n",
       "      <td>APPLE PROTECTION PLAN MACBOOK PRO</td>\n",
       "      <td>APPLE PROTECTION PLAN MACBOOK PRO</td>\n",
       "      <td>Mobile Computing</td>\n",
       "      <td>Computers Peripherals</td>\n",
       "      <td>-25398.0</td>\n",
       "      <td>-1</td>\n",
       "      <td>2019-01-01</td>\n",
       "      <td>NaN</td>\n",
       "      <td>RS</td>\n",
       "      <td>B&amp;M</td>\n",
       "      <td>83.0</td>\n",
       "      <td>A129</td>\n",
       "      <td>Pune</td>\n",
       "      <td>Maharashtra</td>\n",
       "      <td>411014</td>\n",
       "    </tr>\n",
       "  </tbody>\n",
       "</table>\n",
       "</div>"
      ],
      "text/plain": [
       "                             CustID                           ItemDesc  \\\n",
       "0  JFRGRFjeEJVG8RJF8R1Foj8AJJ7Et8oH  APPLE PROTECTION PLAN MACBOOK PRO   \n",
       "\n",
       "            MerchCategoryDescription MerchClassDescription  \\\n",
       "0  APPLE PROTECTION PLAN MACBOOK PRO      Mobile Computing   \n",
       "\n",
       "   MerchGroupDescription  SaleValue  OrderedQuantity   OrderDate ReturnFlag  \\\n",
       "0  Computers Peripherals   -25398.0               -1  2019-01-01        NaN   \n",
       "\n",
       "  SalesChannelCode Ecom_BnM_Indicator  StoreID StoreCode StoreCity  \\\n",
       "0               RS                B&M     83.0      A129      Pune   \n",
       "\n",
       "    StoreState StorePincode  \n",
       "0  Maharashtra       411014  "
      ]
     },
     "execution_count": 13,
     "metadata": {},
     "output_type": "execute_result"
    }
   ],
   "source": [
    "df_Transact.head(1)"
   ]
  },
  {
   "cell_type": "code",
   "execution_count": 14,
   "metadata": {},
   "outputs": [],
   "source": [
    "df_merged1=pd.merge(df_Campaign,df_Transact[['CustID','OrderDate']],on='CustID',how='inner')\n"
   ]
  },
  {
   "cell_type": "code",
   "execution_count": 15,
   "metadata": {},
   "outputs": [],
   "source": [
    "df_merged2=pd.merge(df_merged1,df_Customer,on='CustID',how='inner')"
   ]
  },
  {
   "cell_type": "code",
   "execution_count": 16,
   "metadata": {},
   "outputs": [
    {
     "data": {
      "text/plain": [
       "(28086371, 9)"
      ]
     },
     "execution_count": 16,
     "metadata": {},
     "output_type": "execute_result"
    }
   ],
   "source": [
    "df_merged2.shape"
   ]
  },
  {
   "cell_type": "code",
   "execution_count": 17,
   "metadata": {},
   "outputs": [
    {
     "name": "stdout",
     "output_type": "stream",
     "text": [
      "<class 'pandas.core.frame.DataFrame'>\n",
      "RangeIndex: 28086371 entries, 0 to 28086370\n",
      "Data columns (total 9 columns):\n",
      " #   Column              Dtype \n",
      "---  ------              ----- \n",
      " 0   CustID              object\n",
      " 1   status              object\n",
      " 2   Campaign_Exec_Date  object\n",
      " 3   Campaign_Channel    object\n",
      " 4   OrderDate           object\n",
      " 5   Gender              object\n",
      " 6   Marital_Status      object\n",
      " 7   Pincode             object\n",
      " 8   State               object\n",
      "dtypes: object(9)\n",
      "memory usage: 1.9+ GB\n"
     ]
    }
   ],
   "source": [
    "df_merged2.info()"
   ]
  },
  {
   "cell_type": "code",
   "execution_count": null,
   "metadata": {},
   "outputs": [],
   "source": [
    "#Convert the date columns to date type"
   ]
  },
  {
   "cell_type": "code",
   "execution_count": 18,
   "metadata": {},
   "outputs": [],
   "source": [
    "df_merged2['Campaign_Exec_Date']=pd.to_datetime(df_merged2['Campaign_Exec_Date'])\n",
    "df_merged2['OrderDate']=pd.to_datetime(df_merged2['OrderDate'])"
   ]
  },
  {
   "cell_type": "code",
   "execution_count": 19,
   "metadata": {},
   "outputs": [],
   "source": [
    "df_merged2['Time_for_first_txn']=df_merged2['OrderDate']-df_merged2['Campaign_Exec_Date']\n"
   ]
  },
  {
   "cell_type": "code",
   "execution_count": 20,
   "metadata": {},
   "outputs": [
    {
     "data": {
      "text/plain": [
       "0           527\n",
       "1           527\n",
       "2           527\n",
       "3           527\n",
       "4           528\n",
       "           ... \n",
       "28086366     26\n",
       "28086367     25\n",
       "28086368     25\n",
       "28086369     24\n",
       "28086370     24\n",
       "Name: Time_for_first_txn, Length: 28086371, dtype: int64"
      ]
     },
     "execution_count": 20,
     "metadata": {},
     "output_type": "execute_result"
    }
   ],
   "source": [
    "df_merged2['Time_for_first_txn'].dt.days"
   ]
  },
  {
   "cell_type": "code",
   "execution_count": null,
   "metadata": {},
   "outputs": [],
   "source": []
  },
  {
   "cell_type": "code",
   "execution_count": 22,
   "metadata": {},
   "outputs": [],
   "source": [
    "df_merged2['Outcome']=[0 if x>30 else 1 for x in df_merged2['Time_for_first_txn'].dt.days] #NEED TO REPLACE 30"
   ]
  },
  {
   "cell_type": "code",
   "execution_count": 23,
   "metadata": {},
   "outputs": [
    {
     "data": {
      "text/plain": [
       "Outcome\n",
       "0    22312719\n",
       "1     5773652\n",
       "Name: count, dtype: int64"
      ]
     },
     "execution_count": 23,
     "metadata": {},
     "output_type": "execute_result"
    }
   ],
   "source": [
    "df_merged2['Outcome'].value_counts()"
   ]
  },
  {
   "cell_type": "code",
   "execution_count": 24,
   "metadata": {},
   "outputs": [],
   "source": [
    "df_viewed=df_merged2[df_merged2.status=='viewed'] #AS ONLY THOSE ARE TO BE CONSIDERED WHERE CUSTOMER VIEWED THE CAMPAIGN"
   ]
  },
  {
   "cell_type": "code",
   "execution_count": 25,
   "metadata": {},
   "outputs": [
    {
     "data": {
      "text/plain": [
       "Outcome\n",
       "0    11042051\n",
       "1     3332343\n",
       "Name: count, dtype: int64"
      ]
     },
     "execution_count": 25,
     "metadata": {},
     "output_type": "execute_result"
    }
   ],
   "source": [
    "df_viewed['Outcome'].value_counts()"
   ]
  },
  {
   "cell_type": "code",
   "execution_count": 26,
   "metadata": {},
   "outputs": [
    {
     "data": {
      "text/plain": [
       "502121"
      ]
     },
     "execution_count": 26,
     "metadata": {},
     "output_type": "execute_result"
    }
   ],
   "source": [
    "len(df_Customer['CustID'].unique())"
   ]
  },
  {
   "cell_type": "markdown",
   "metadata": {},
   "source": [
    "INDEPENDENT VARS=Campaign_Channel,Gender,Marital_Status,State\n",
    "\n",
    "TARGET=outcome"
   ]
  },
  {
   "cell_type": "code",
   "execution_count": 27,
   "metadata": {},
   "outputs": [
    {
     "data": {
      "text/plain": [
       "Index(['CustID', 'status', 'Campaign_Exec_Date', 'Campaign_Channel',\n",
       "       'OrderDate', 'Gender', 'Marital_Status', 'Pincode', 'State',\n",
       "       'Time_for_first_txn', 'Outcome'],\n",
       "      dtype='object')"
      ]
     },
     "execution_count": 27,
     "metadata": {},
     "output_type": "execute_result"
    }
   ],
   "source": [
    "df_merged2.columns"
   ]
  },
  {
   "cell_type": "code",
   "execution_count": 28,
   "metadata": {},
   "outputs": [],
   "source": [
    "X = df_merged2[['status','Campaign_Channel', 'Gender', 'Marital_Status', 'State',]]\n",
    "Y = df_merged2[['Outcome']]"
   ]
  },
  {
   "cell_type": "code",
   "execution_count": 29,
   "metadata": {},
   "outputs": [
    {
     "data": {
      "text/plain": [
       "Index(['status_click', 'status_clicked', 'status_delivered', 'status_viewed',\n",
       "       'Campaign_Channel_Email', 'Campaign_Channel_SMS', 'Gender_Female',\n",
       "       'Gender_Male', 'Gender_Transgender', 'Marital_Status_Married',\n",
       "       'Marital_Status_Unmarried', 'State_Andaman & Nicobar',\n",
       "       'State_Andhra Pradesh', 'State_Arunachal Pradesh', 'State_Assam',\n",
       "       'State_Bihar', 'State_Chhatisgarh', 'State_Delhi', 'State_Diu & Daman',\n",
       "       'State_Goa', 'State_Gujarat', 'State_Gurugram', 'State_Haryana',\n",
       "       'State_Himachal Pradesh', 'State_Jammu & Kashmir',\n",
       "       'State_Jammu And Kashmir', 'State_Jharkhand', 'State_Karnataka',\n",
       "       'State_Keral', 'State_Leh Ladhak', 'State_Madhya Pradesh',\n",
       "       'State_Maharashtra', 'State_Manipur', 'State_Meghalaya',\n",
       "       'State_Mizoram', 'State_Nagaland', 'State_Odisha', 'State_Pondicherry',\n",
       "       'State_Punjab', 'State_Rajasthan', 'State_Sikkim', 'State_Tamil Nadu',\n",
       "       'State_Telangana', 'State_Tripura', 'State_Uttar Pradesh',\n",
       "       'State_Uttarakhand', 'State_West Bengal'],\n",
       "      dtype='object')"
      ]
     },
     "execution_count": 29,
     "metadata": {},
     "output_type": "execute_result"
    }
   ],
   "source": [
    "data = pd.get_dummies(X,columns=['status','Campaign_Channel','Gender', 'Marital_Status', 'State'])\n",
    "data.columns"
   ]
  },
  {
   "cell_type": "code",
   "execution_count": 30,
   "metadata": {},
   "outputs": [],
   "source": [
    "X = data"
   ]
  },
  {
   "cell_type": "code",
   "execution_count": 31,
   "metadata": {},
   "outputs": [],
   "source": [
    "X_train,X_test,y_train,y_test=train_test_split(X,Y,test_size=0.20)"
   ]
  },
  {
   "cell_type": "code",
   "execution_count": 32,
   "metadata": {},
   "outputs": [
    {
     "name": "stdout",
     "output_type": "stream",
     "text": [
      "(22469096, 47)\n",
      "(5617275, 47)\n",
      "(22469096, 1)\n",
      "(5617275, 1)\n"
     ]
    }
   ],
   "source": [
    "print(X_train.shape)\n",
    "print(X_test.shape)\n",
    "print(y_train.shape)\n",
    "print(y_test.shape)"
   ]
  },
  {
   "cell_type": "code",
   "execution_count": 33,
   "metadata": {},
   "outputs": [],
   "source": [
    "model = xgb.XGBClassifier()"
   ]
  },
  {
   "cell_type": "code",
   "execution_count": 34,
   "metadata": {},
   "outputs": [
    {
     "data": {
      "text/html": [
       "<style>#sk-container-id-1 {color: black;}#sk-container-id-1 pre{padding: 0;}#sk-container-id-1 div.sk-toggleable {background-color: white;}#sk-container-id-1 label.sk-toggleable__label {cursor: pointer;display: block;width: 100%;margin-bottom: 0;padding: 0.3em;box-sizing: border-box;text-align: center;}#sk-container-id-1 label.sk-toggleable__label-arrow:before {content: \"▸\";float: left;margin-right: 0.25em;color: #696969;}#sk-container-id-1 label.sk-toggleable__label-arrow:hover:before {color: black;}#sk-container-id-1 div.sk-estimator:hover label.sk-toggleable__label-arrow:before {color: black;}#sk-container-id-1 div.sk-toggleable__content {max-height: 0;max-width: 0;overflow: hidden;text-align: left;background-color: #f0f8ff;}#sk-container-id-1 div.sk-toggleable__content pre {margin: 0.2em;color: black;border-radius: 0.25em;background-color: #f0f8ff;}#sk-container-id-1 input.sk-toggleable__control:checked~div.sk-toggleable__content {max-height: 200px;max-width: 100%;overflow: auto;}#sk-container-id-1 input.sk-toggleable__control:checked~label.sk-toggleable__label-arrow:before {content: \"▾\";}#sk-container-id-1 div.sk-estimator input.sk-toggleable__control:checked~label.sk-toggleable__label {background-color: #d4ebff;}#sk-container-id-1 div.sk-label input.sk-toggleable__control:checked~label.sk-toggleable__label {background-color: #d4ebff;}#sk-container-id-1 input.sk-hidden--visually {border: 0;clip: rect(1px 1px 1px 1px);clip: rect(1px, 1px, 1px, 1px);height: 1px;margin: -1px;overflow: hidden;padding: 0;position: absolute;width: 1px;}#sk-container-id-1 div.sk-estimator {font-family: monospace;background-color: #f0f8ff;border: 1px dotted black;border-radius: 0.25em;box-sizing: border-box;margin-bottom: 0.5em;}#sk-container-id-1 div.sk-estimator:hover {background-color: #d4ebff;}#sk-container-id-1 div.sk-parallel-item::after {content: \"\";width: 100%;border-bottom: 1px solid gray;flex-grow: 1;}#sk-container-id-1 div.sk-label:hover label.sk-toggleable__label {background-color: #d4ebff;}#sk-container-id-1 div.sk-serial::before {content: \"\";position: absolute;border-left: 1px solid gray;box-sizing: border-box;top: 0;bottom: 0;left: 50%;z-index: 0;}#sk-container-id-1 div.sk-serial {display: flex;flex-direction: column;align-items: center;background-color: white;padding-right: 0.2em;padding-left: 0.2em;position: relative;}#sk-container-id-1 div.sk-item {position: relative;z-index: 1;}#sk-container-id-1 div.sk-parallel {display: flex;align-items: stretch;justify-content: center;background-color: white;position: relative;}#sk-container-id-1 div.sk-item::before, #sk-container-id-1 div.sk-parallel-item::before {content: \"\";position: absolute;border-left: 1px solid gray;box-sizing: border-box;top: 0;bottom: 0;left: 50%;z-index: -1;}#sk-container-id-1 div.sk-parallel-item {display: flex;flex-direction: column;z-index: 1;position: relative;background-color: white;}#sk-container-id-1 div.sk-parallel-item:first-child::after {align-self: flex-end;width: 50%;}#sk-container-id-1 div.sk-parallel-item:last-child::after {align-self: flex-start;width: 50%;}#sk-container-id-1 div.sk-parallel-item:only-child::after {width: 0;}#sk-container-id-1 div.sk-dashed-wrapped {border: 1px dashed gray;margin: 0 0.4em 0.5em 0.4em;box-sizing: border-box;padding-bottom: 0.4em;background-color: white;}#sk-container-id-1 div.sk-label label {font-family: monospace;font-weight: bold;display: inline-block;line-height: 1.2em;}#sk-container-id-1 div.sk-label-container {text-align: center;}#sk-container-id-1 div.sk-container {/* jupyter's `normalize.less` sets `[hidden] { display: none; }` but bootstrap.min.css set `[hidden] { display: none !important; }` so we also need the `!important` here to be able to override the default hidden behavior on the sphinx rendered scikit-learn.org. See: https://github.com/scikit-learn/scikit-learn/issues/21755 */display: inline-block !important;position: relative;}#sk-container-id-1 div.sk-text-repr-fallback {display: none;}</style><div id=\"sk-container-id-1\" class=\"sk-top-container\"><div class=\"sk-text-repr-fallback\"><pre>XGBClassifier(base_score=None, booster=None, callbacks=None,\n",
       "              colsample_bylevel=None, colsample_bynode=None,\n",
       "              colsample_bytree=None, device=None, early_stopping_rounds=None,\n",
       "              enable_categorical=False, eval_metric=None, feature_types=None,\n",
       "              gamma=None, grow_policy=None, importance_type=None,\n",
       "              interaction_constraints=None, learning_rate=None, max_bin=None,\n",
       "              max_cat_threshold=None, max_cat_to_onehot=None,\n",
       "              max_delta_step=None, max_depth=None, max_leaves=None,\n",
       "              min_child_weight=None, missing=nan, monotone_constraints=None,\n",
       "              multi_strategy=None, n_estimators=None, n_jobs=None,\n",
       "              num_parallel_tree=None, random_state=None, ...)</pre><b>In a Jupyter environment, please rerun this cell to show the HTML representation or trust the notebook. <br />On GitHub, the HTML representation is unable to render, please try loading this page with nbviewer.org.</b></div><div class=\"sk-container\" hidden><div class=\"sk-item\"><div class=\"sk-estimator sk-toggleable\"><input class=\"sk-toggleable__control sk-hidden--visually\" id=\"sk-estimator-id-1\" type=\"checkbox\" checked><label for=\"sk-estimator-id-1\" class=\"sk-toggleable__label sk-toggleable__label-arrow\">XGBClassifier</label><div class=\"sk-toggleable__content\"><pre>XGBClassifier(base_score=None, booster=None, callbacks=None,\n",
       "              colsample_bylevel=None, colsample_bynode=None,\n",
       "              colsample_bytree=None, device=None, early_stopping_rounds=None,\n",
       "              enable_categorical=False, eval_metric=None, feature_types=None,\n",
       "              gamma=None, grow_policy=None, importance_type=None,\n",
       "              interaction_constraints=None, learning_rate=None, max_bin=None,\n",
       "              max_cat_threshold=None, max_cat_to_onehot=None,\n",
       "              max_delta_step=None, max_depth=None, max_leaves=None,\n",
       "              min_child_weight=None, missing=nan, monotone_constraints=None,\n",
       "              multi_strategy=None, n_estimators=None, n_jobs=None,\n",
       "              num_parallel_tree=None, random_state=None, ...)</pre></div></div></div></div></div>"
      ],
      "text/plain": [
       "XGBClassifier(base_score=None, booster=None, callbacks=None,\n",
       "              colsample_bylevel=None, colsample_bynode=None,\n",
       "              colsample_bytree=None, device=None, early_stopping_rounds=None,\n",
       "              enable_categorical=False, eval_metric=None, feature_types=None,\n",
       "              gamma=None, grow_policy=None, importance_type=None,\n",
       "              interaction_constraints=None, learning_rate=None, max_bin=None,\n",
       "              max_cat_threshold=None, max_cat_to_onehot=None,\n",
       "              max_delta_step=None, max_depth=None, max_leaves=None,\n",
       "              min_child_weight=None, missing=nan, monotone_constraints=None,\n",
       "              multi_strategy=None, n_estimators=None, n_jobs=None,\n",
       "              num_parallel_tree=None, random_state=None, ...)"
      ]
     },
     "execution_count": 34,
     "metadata": {},
     "output_type": "execute_result"
    }
   ],
   "source": [
    "model.fit(X_train,y_train)"
   ]
  },
  {
   "cell_type": "code",
   "execution_count": 35,
   "metadata": {},
   "outputs": [],
   "source": [
    "v = model.predict(X_test)"
   ]
  },
  {
   "cell_type": "code",
   "execution_count": 36,
   "metadata": {},
   "outputs": [
    {
     "data": {
      "text/plain": [
       "0    5475333\n",
       "1     141942\n",
       "Name: count, dtype: int64"
      ]
     },
     "execution_count": 36,
     "metadata": {},
     "output_type": "execute_result"
    }
   ],
   "source": [
    "pd.DataFrame(v).value_counts()"
   ]
  },
  {
   "cell_type": "code",
   "execution_count": 37,
   "metadata": {},
   "outputs": [
    {
     "name": "stdout",
     "output_type": "stream",
     "text": [
      "Precision is : 0.5499288441757901\n"
     ]
    }
   ],
   "source": [
    "Precision = metrics.precision_score(y_test,v)\n",
    "print(\"Precision is :\", Precision)"
   ]
  },
  {
   "cell_type": "code",
   "execution_count": 38,
   "metadata": {},
   "outputs": [
    {
     "name": "stdout",
     "output_type": "stream",
     "text": [
      "accuracy is: 0.7969871512432629\n"
     ]
    }
   ],
   "source": [
    "accuracy = metrics.accuracy_score(y_test,v)\n",
    "print(\"accuracy is:\", accuracy)"
   ]
  },
  {
   "cell_type": "code",
   "execution_count": 39,
   "metadata": {},
   "outputs": [
    {
     "name": "stdout",
     "output_type": "stream",
     "text": [
      "recall is :  0.06760884948547187\n"
     ]
    }
   ],
   "source": [
    "recall = metrics.recall_score(y_test,v)\n",
    "print(\"recall is : \", recall)"
   ]
  },
  {
   "cell_type": "code",
   "execution_count": 40,
   "metadata": {},
   "outputs": [],
   "source": [
    "XGB_Confusion_Matrix = metrics.confusion_matrix(y_test,v)"
   ]
  },
  {
   "cell_type": "code",
   "execution_count": null,
   "metadata": {},
   "outputs": [],
   "source": [
    "plt.figure(figsize=(8, 6))\n",
    "sns.heatmap(XGB_Confusion_Matrix, annot=True, fmt=\"d\", cmap=\"Blues\", xticklabels=['Predicted 0', 'Predicted 1'], yticklabels=['Actual 0', 'Actual 1'])\n",
    "plt.xlabel('Predicted')\n",
    "plt.ylabel('Actual')\n",
    "plt.title('Confusion Matrix')\n",
    "plt.show();"
   ]
  },
  {
   "cell_type": "code",
   "execution_count": null,
   "metadata": {},
   "outputs": [],
   "source": []
  },
  {
   "cell_type": "markdown",
   "metadata": {},
   "source": [
    "# RandomForest Model"
   ]
  },
  {
   "cell_type": "code",
   "execution_count": 63,
   "metadata": {},
   "outputs": [],
   "source": [
    "#20% of data taken from actual dataset\n",
    "df_reduced = df_merged2.sample(frac=0.05, random_state=42)"
   ]
  },
  {
   "cell_type": "code",
   "execution_count": 52,
   "metadata": {},
   "outputs": [
    {
     "data": {
      "text/plain": [
       "Index(['CustID', 'status', 'Campaign_Exec_Date', 'Campaign_Channel',\n",
       "       'OrderDate', 'Gender', 'Marital_Status', 'Pincode', 'State',\n",
       "       'Time_for_first_txn', 'Outcome'],\n",
       "      dtype='object')"
      ]
     },
     "execution_count": 52,
     "metadata": {},
     "output_type": "execute_result"
    }
   ],
   "source": [
    "df_reduced.columns"
   ]
  },
  {
   "cell_type": "code",
   "execution_count": 64,
   "metadata": {},
   "outputs": [],
   "source": [
    "X1 = df_reduced[['status','Campaign_Channel', 'Gender', 'Marital_Status', 'State',]]\n",
    "Y1 = df_reduced[['Outcome']]"
   ]
  },
  {
   "cell_type": "code",
   "execution_count": 65,
   "metadata": {},
   "outputs": [
    {
     "data": {
      "text/plain": [
       "Index(['status_click', 'status_clicked', 'status_delivered', 'status_viewed',\n",
       "       'Campaign_Channel_Email', 'Campaign_Channel_SMS', 'Gender_Female',\n",
       "       'Gender_Male', 'Gender_Transgender', 'Marital_Status_Married',\n",
       "       'Marital_Status_Unmarried', 'State_Andaman & Nicobar',\n",
       "       'State_Andhra Pradesh', 'State_Arunachal Pradesh', 'State_Assam',\n",
       "       'State_Bihar', 'State_Chhatisgarh', 'State_Delhi', 'State_Diu & Daman',\n",
       "       'State_Goa', 'State_Gujarat', 'State_Gurugram', 'State_Haryana',\n",
       "       'State_Himachal Pradesh', 'State_Jammu & Kashmir',\n",
       "       'State_Jammu And Kashmir', 'State_Jharkhand', 'State_Karnataka',\n",
       "       'State_Keral', 'State_Leh Ladhak', 'State_Madhya Pradesh',\n",
       "       'State_Maharashtra', 'State_Manipur', 'State_Meghalaya',\n",
       "       'State_Mizoram', 'State_Nagaland', 'State_Odisha', 'State_Pondicherry',\n",
       "       'State_Punjab', 'State_Rajasthan', 'State_Sikkim', 'State_Tamil Nadu',\n",
       "       'State_Telangana', 'State_Tripura', 'State_Uttar Pradesh',\n",
       "       'State_Uttarakhand', 'State_West Bengal'],\n",
       "      dtype='object')"
      ]
     },
     "execution_count": 65,
     "metadata": {},
     "output_type": "execute_result"
    }
   ],
   "source": [
    "data1 = pd.get_dummies(X1,columns=['status','Campaign_Channel','Gender', 'Marital_Status', 'State'])\n",
    "data1.columns"
   ]
  },
  {
   "cell_type": "code",
   "execution_count": 66,
   "metadata": {},
   "outputs": [],
   "source": [
    "X1 = data1"
   ]
  },
  {
   "cell_type": "code",
   "execution_count": 67,
   "metadata": {},
   "outputs": [],
   "source": [
    "X1_train,X1_test,y1_train,y1_test=train_test_split(X1,Y1,test_size=0.20)"
   ]
  },
  {
   "cell_type": "code",
   "execution_count": 68,
   "metadata": {},
   "outputs": [
    {
     "name": "stdout",
     "output_type": "stream",
     "text": [
      "(1123455, 47)\n",
      "(280864, 47)\n",
      "(1123455, 1)\n",
      "(280864, 1)\n"
     ]
    }
   ],
   "source": [
    "print(X1_train.shape)\n",
    "print(X1_test.shape)\n",
    "print(y1_train.shape)\n",
    "print(y1_test.shape)"
   ]
  },
  {
   "cell_type": "code",
   "execution_count": 69,
   "metadata": {},
   "outputs": [],
   "source": [
    "clf = RandomForestClassifier()"
   ]
  },
  {
   "cell_type": "code",
   "execution_count": 70,
   "metadata": {},
   "outputs": [
    {
     "name": "stderr",
     "output_type": "stream",
     "text": [
      "/Users/Shared/anaconda3/lib/python3.11/site-packages/sklearn/base.py:1151: DataConversionWarning: A column-vector y was passed when a 1d array was expected. Please change the shape of y to (n_samples,), for example using ravel().\n",
      "  return fit_method(estimator, *args, **kwargs)\n"
     ]
    },
    {
     "name": "stdout",
     "output_type": "stream",
     "text": [
      "CPU times: user 49.9 s, sys: 1.09 s, total: 51 s\n",
      "Wall time: 51.3 s\n"
     ]
    },
    {
     "data": {
      "text/html": [
       "<style>#sk-container-id-2 {color: black;}#sk-container-id-2 pre{padding: 0;}#sk-container-id-2 div.sk-toggleable {background-color: white;}#sk-container-id-2 label.sk-toggleable__label {cursor: pointer;display: block;width: 100%;margin-bottom: 0;padding: 0.3em;box-sizing: border-box;text-align: center;}#sk-container-id-2 label.sk-toggleable__label-arrow:before {content: \"▸\";float: left;margin-right: 0.25em;color: #696969;}#sk-container-id-2 label.sk-toggleable__label-arrow:hover:before {color: black;}#sk-container-id-2 div.sk-estimator:hover label.sk-toggleable__label-arrow:before {color: black;}#sk-container-id-2 div.sk-toggleable__content {max-height: 0;max-width: 0;overflow: hidden;text-align: left;background-color: #f0f8ff;}#sk-container-id-2 div.sk-toggleable__content pre {margin: 0.2em;color: black;border-radius: 0.25em;background-color: #f0f8ff;}#sk-container-id-2 input.sk-toggleable__control:checked~div.sk-toggleable__content {max-height: 200px;max-width: 100%;overflow: auto;}#sk-container-id-2 input.sk-toggleable__control:checked~label.sk-toggleable__label-arrow:before {content: \"▾\";}#sk-container-id-2 div.sk-estimator input.sk-toggleable__control:checked~label.sk-toggleable__label {background-color: #d4ebff;}#sk-container-id-2 div.sk-label input.sk-toggleable__control:checked~label.sk-toggleable__label {background-color: #d4ebff;}#sk-container-id-2 input.sk-hidden--visually {border: 0;clip: rect(1px 1px 1px 1px);clip: rect(1px, 1px, 1px, 1px);height: 1px;margin: -1px;overflow: hidden;padding: 0;position: absolute;width: 1px;}#sk-container-id-2 div.sk-estimator {font-family: monospace;background-color: #f0f8ff;border: 1px dotted black;border-radius: 0.25em;box-sizing: border-box;margin-bottom: 0.5em;}#sk-container-id-2 div.sk-estimator:hover {background-color: #d4ebff;}#sk-container-id-2 div.sk-parallel-item::after {content: \"\";width: 100%;border-bottom: 1px solid gray;flex-grow: 1;}#sk-container-id-2 div.sk-label:hover label.sk-toggleable__label {background-color: #d4ebff;}#sk-container-id-2 div.sk-serial::before {content: \"\";position: absolute;border-left: 1px solid gray;box-sizing: border-box;top: 0;bottom: 0;left: 50%;z-index: 0;}#sk-container-id-2 div.sk-serial {display: flex;flex-direction: column;align-items: center;background-color: white;padding-right: 0.2em;padding-left: 0.2em;position: relative;}#sk-container-id-2 div.sk-item {position: relative;z-index: 1;}#sk-container-id-2 div.sk-parallel {display: flex;align-items: stretch;justify-content: center;background-color: white;position: relative;}#sk-container-id-2 div.sk-item::before, #sk-container-id-2 div.sk-parallel-item::before {content: \"\";position: absolute;border-left: 1px solid gray;box-sizing: border-box;top: 0;bottom: 0;left: 50%;z-index: -1;}#sk-container-id-2 div.sk-parallel-item {display: flex;flex-direction: column;z-index: 1;position: relative;background-color: white;}#sk-container-id-2 div.sk-parallel-item:first-child::after {align-self: flex-end;width: 50%;}#sk-container-id-2 div.sk-parallel-item:last-child::after {align-self: flex-start;width: 50%;}#sk-container-id-2 div.sk-parallel-item:only-child::after {width: 0;}#sk-container-id-2 div.sk-dashed-wrapped {border: 1px dashed gray;margin: 0 0.4em 0.5em 0.4em;box-sizing: border-box;padding-bottom: 0.4em;background-color: white;}#sk-container-id-2 div.sk-label label {font-family: monospace;font-weight: bold;display: inline-block;line-height: 1.2em;}#sk-container-id-2 div.sk-label-container {text-align: center;}#sk-container-id-2 div.sk-container {/* jupyter's `normalize.less` sets `[hidden] { display: none; }` but bootstrap.min.css set `[hidden] { display: none !important; }` so we also need the `!important` here to be able to override the default hidden behavior on the sphinx rendered scikit-learn.org. See: https://github.com/scikit-learn/scikit-learn/issues/21755 */display: inline-block !important;position: relative;}#sk-container-id-2 div.sk-text-repr-fallback {display: none;}</style><div id=\"sk-container-id-2\" class=\"sk-top-container\"><div class=\"sk-text-repr-fallback\"><pre>RandomForestClassifier()</pre><b>In a Jupyter environment, please rerun this cell to show the HTML representation or trust the notebook. <br />On GitHub, the HTML representation is unable to render, please try loading this page with nbviewer.org.</b></div><div class=\"sk-container\" hidden><div class=\"sk-item\"><div class=\"sk-estimator sk-toggleable\"><input class=\"sk-toggleable__control sk-hidden--visually\" id=\"sk-estimator-id-2\" type=\"checkbox\" checked><label for=\"sk-estimator-id-2\" class=\"sk-toggleable__label sk-toggleable__label-arrow\">RandomForestClassifier</label><div class=\"sk-toggleable__content\"><pre>RandomForestClassifier()</pre></div></div></div></div></div>"
      ],
      "text/plain": [
       "RandomForestClassifier()"
      ]
     },
     "execution_count": 70,
     "metadata": {},
     "output_type": "execute_result"
    }
   ],
   "source": [
    "%%time\n",
    "clf.fit(X1_train, y1_train)"
   ]
  },
  {
   "cell_type": "code",
   "execution_count": 71,
   "metadata": {},
   "outputs": [],
   "source": [
    "y1_pred = clf.predict(X1_test)"
   ]
  },
  {
   "cell_type": "code",
   "execution_count": 72,
   "metadata": {},
   "outputs": [
    {
     "name": "stdout",
     "output_type": "stream",
     "text": [
      "Accuracy: 0.7970441209980631\n"
     ]
    }
   ],
   "source": [
    "from sklearn.metrics import accuracy_score\n",
    "accuracy = accuracy_score(y1_test, y1_pred)\n",
    "print(f'Accuracy: {accuracy}')"
   ]
  },
  {
   "cell_type": "code",
   "execution_count": 73,
   "metadata": {},
   "outputs": [
    {
     "name": "stdout",
     "output_type": "stream",
     "text": [
      "recall is :  0.06306792465968039\n"
     ]
    }
   ],
   "source": [
    "recall = metrics.recall_score(y1_test,y1_pred)\n",
    "print(\"recall is : \", recall)"
   ]
  },
  {
   "cell_type": "code",
   "execution_count": 74,
   "metadata": {},
   "outputs": [
    {
     "data": {
      "text/plain": [
       "array([[220238,   3180],\n",
       "       [ 53823,   3623]])"
      ]
     },
     "execution_count": 74,
     "metadata": {},
     "output_type": "execute_result"
    }
   ],
   "source": [
    "RF_Confusion_Matrix = metrics.confusion_matrix(y1_test,y1_pred)\n",
    "RF_Confusion_Matrix"
   ]
  },
  {
   "cell_type": "code",
   "execution_count": null,
   "metadata": {},
   "outputs": [],
   "source": []
  },
  {
   "cell_type": "code",
   "execution_count": 93,
   "metadata": {},
   "outputs": [
    {
     "name": "stdout",
     "output_type": "stream",
     "text": [
      "(280864,)\n"
     ]
    }
   ],
   "source": [
    "# Predict the class probabilities for the positive class\n",
    "y_prob = clf.predict_proba(X1_test)[:, 1]\n",
    "print(y_prob.shape)"
   ]
  },
  {
   "cell_type": "code",
   "execution_count": 91,
   "metadata": {},
   "outputs": [
    {
     "name": "stdout",
     "output_type": "stream",
     "text": [
      "          Outcome\n",
      "3697966         0\n",
      "9693211         0\n",
      "24003181        0\n",
      "1123015         1\n",
      "21635889        0\n",
      "[0.13928112 0.02431968 0.13092973 0.17891398 0.04917569]\n"
     ]
    }
   ],
   "source": [
    "print(y1_test[:5])\n",
    "print(y_prob[:5])"
   ]
  },
  {
   "cell_type": "code",
   "execution_count": 95,
   "metadata": {},
   "outputs": [
    {
     "data": {
      "text/plain": [
       "280864"
      ]
     },
     "execution_count": 95,
     "metadata": {},
     "output_type": "execute_result"
    }
   ],
   "source": [
    "len(y1_test)"
   ]
  },
  {
   "cell_type": "code",
   "execution_count": 92,
   "metadata": {},
   "outputs": [
    {
     "data": {
      "text/plain": [
       "(5617275, 1)"
      ]
     },
     "execution_count": 92,
     "metadata": {},
     "output_type": "execute_result"
    }
   ],
   "source": []
  },
  {
   "cell_type": "code",
   "execution_count": null,
   "metadata": {},
   "outputs": [],
   "source": []
  },
  {
   "cell_type": "code",
   "execution_count": 102,
   "metadata": {},
   "outputs": [
    {
     "name": "stdout",
     "output_type": "stream",
     "text": [
      "ks-statistic for the model is :0.25548913532468814\n"
     ]
    }
   ],
   "source": [
    "#Ks_Statistics for RandomForest Model\n",
    "df = pd.DataFrame()\n",
    "df['real'] = y1_test\n",
    "df['proba'] = y_prob\n",
    "\n",
    "class0 = df[df['real'] == 0]\n",
    "class1 = df[df['real'] == 1]\n",
    "ks = ks_2samp(class0['proba'], class1['proba'])\n",
    "\n",
    "print(f'ks-statistic for the model is :{ks.statistic}')\n",
    "#ks_statistic, p_value = ks_2samp(y_prob[y1_test == 1], y_prob[y1_test == 0])"
   ]
  },
  {
   "cell_type": "code",
   "execution_count": null,
   "metadata": {},
   "outputs": [],
   "source": []
  },
  {
   "cell_type": "code",
   "execution_count": 77,
   "metadata": {},
   "outputs": [
    {
     "name": "stdout",
     "output_type": "stream",
     "text": [
      "ROC Area (AUC): 0.6802924716279537\n"
     ]
    }
   ],
   "source": [
    "#ROC area of RandomForest Model\n",
    "\n",
    "roc_auc = roc_auc_score(y1_test, y_prob)\n",
    "print(f'ROC Area (AUC): {roc_auc}')"
   ]
  },
  {
   "cell_type": "code",
   "execution_count": 104,
   "metadata": {},
   "outputs": [
    {
     "data": {
      "image/png": "[encoded data removed]",
      "text/plain": [
       "<Figure size 800x600 with 2 Axes>"
      ]
     },
     "metadata": {},
     "output_type": "display_data"
    }
   ],
   "source": [
    "plt.figure(figsize=(8, 6))\n",
    "sns.heatmap(RF_Confusion_Matrix, annot=True, fmt=\"d\", cmap=\"Blues\", xticklabels=['Predicted 0', 'Predicted 1'], yticklabels=['Actual 0', 'Actual 1'])\n",
    "plt.xlabel('Predicted')\n",
    "plt.ylabel('Actual')\n",
    "plt.title('Confusion Matrix')\n",
    "plt.show();"
   ]
  },
  {
   "cell_type": "code",
   "execution_count": 105,
   "metadata": {},
   "outputs": [
    {
     "data": {
      "image/png": "[encoded data removed]",
      "text/plain": [
       "<Figure size 800x600 with 1 Axes>"
      ]
     },
     "metadata": {},
     "output_type": "display_data"
    }
   ],
   "source": [
    "fpr, tpr, thresholds = roc_curve(y1_test, y_prob)\n",
    "\n",
    "plt.figure(figsize=(8, 6))\n",
    "plt.plot(fpr, tpr, color='b')\n",
    "plt.plot([0, 1], [0, 1], color='gray', linestyle='--')\n",
    "plt.xlabel('False Positive Rate')\n",
    "plt.ylabel('True Positive Rate')\n",
    "plt.title('ROC Curve')\n",
    "plt.show()\n"
   ]
  },
  {
   "cell_type": "code",
   "execution_count": 106,
   "metadata": {},
   "outputs": [
    {
     "data": {
      "image/png": "[encoded data removed]",
      "text/plain": [
       "<Figure size 1000x600 with 1 Axes>"
      ]
     },
     "metadata": {},
     "output_type": "display_data"
    }
   ],
   "source": [
    "importances = clf.feature_importances_\n",
    "indices = np.argsort(importances)[::-1]\n",
    "plt.figure(figsize=(10, 6))\n",
    "plt.bar(range(X1_train.shape[1]), importances[indices])\n",
    "plt.xticks(range(X1_train.shape[1]), X1_train.columns[indices], rotation=90)\n",
    "plt.title(\"Feature Importances\")\n",
    "plt.show()"
   ]
  },
  {
   "cell_type": "code",
   "execution_count": 107,
   "metadata": {},
   "outputs": [
    {
     "data": {
      "image/png": "[encoded data removed]",
      "text/plain": [
       "<Figure size 800x600 with 1 Axes>"
      ]
     },
     "metadata": {},
     "output_type": "display_data"
    }
   ],
   "source": [
    "from sklearn.metrics import precision_recall_curve\n",
    "precision, recall, _ = precision_recall_curve(y1_test, y_prob)\n",
    "\n",
    "plt.figure(figsize=(8, 6))\n",
    "plt.plot(recall, precision, color='b')\n",
    "plt.xlabel('Recall')\n",
    "plt.ylabel('Precision')\n",
    "plt.title('Precision-Recall Curve')\n",
    "plt.show()"
   ]
  },
  {
   "cell_type": "code",
   "execution_count": 110,
   "metadata": {},
   "outputs": [],
   "source": [
    "model_names = ['xgBoost', 'Random Forest']\n",
    "auc_scores = [0.79, 0.78]"
   ]
  },
  {
   "cell_type": "code",
   "execution_count": 112,
   "metadata": {},
   "outputs": [
    {
     "data": {
      "image/png": "[encoded data removed]",
      "text/plain": [
       "<Figure size 800x600 with 1 Axes>"
      ]
     },
     "metadata": {},
     "output_type": "display_data"
    }
   ],
   "source": [
    "# Create a bar chart to compare model AUC scores\n",
    "plt.figure(figsize=(8, 6))\n",
    "plt.bar(model_names, auc_scores, color=['blue', 'green'])\n",
    "plt.xlabel('Models')\n",
    "plt.ylabel('AUC Score')\n",
    "plt.title('Model Comparison')\n",
    "plt.show()"
   ]
  },
  {
   "cell_type": "code",
   "execution_count": null,
   "metadata": {},
   "outputs": [],
   "source": []
  }
 ],
 "metadata": {
  "kernelspec": {
   "display_name": "Python 3 (ipykernel)",
   "language": "python",
   "name": "python3"
  },
  "language_info": {
   "codemirror_mode": {
    "name": "ipython",
    "version": 3
   },
   "file_extension": ".py",
   "mimetype": "text/x-python",
   "name": "python",
   "nbconvert_exporter": "python",
   "pygments_lexer": "ipython3",
   "version": "3.11.5"
  }
 },
 "nbformat": 4,
 "nbformat_minor": 2
}
